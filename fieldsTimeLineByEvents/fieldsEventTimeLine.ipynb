{
 "cells": [
  {
   "cell_type": "code",
   "execution_count": null,
   "metadata": {},
   "outputs": [],
   "source": [
    "%pyspark\n",
    "#All imports go here\n",
    "from shapely.geometry import shape\n",
    "from shapely.ops import transform\n",
    "from shapely.geometry import MultiPolygon\n",
    "from shapely import wkt\n",
    "from shapely.ops import transform\n",
    "\n",
    "from functools import partial\n",
    "import pyproj\n",
    "\n",
    "import pyspark.sql.functions as pys\n",
    "from pyspark.sql.types import DoubleType, StringType, FloatType, IntegerType, BooleanType\n",
    "from pyspark.sql.functions import udf\n",
    "from pyspark.sql.functions import sum\n",
    "from pyspark.sql.functions import col\n",
    "from pyspark.sql import functions as F\n",
    "\n",
    "import plotly.plotly as py\n",
    "import plotly.graph_objs as go\n",
    "import pandas as pd\n",
    "from pyspark.sql.functions import desc as dsc\n"
   ]
  },
  {
   "cell_type": "code",
   "execution_count": null,
   "metadata": {},
   "outputs": [],
   "source": [
    "%pyspark\n",
    "fields = sqlContext.read.json(\"s3n://data-lake-us-east-2-549323063936-validated/NonExploded_New_data_field.json/*.json\")\n",
    "fields = fields.where(col('field.deleted_at').isNull())\n",
    "fields2 = fields.select('field')\n"
   ]
  },
  {
   "cell_type": "code",
   "execution_count": null,
   "metadata": {},
   "outputs": [],
   "source": [
    "%pyspark\n",
    "sampleEvents = sqlContext.read.json(\"s3n://data-lake-us-east-2-549323063936-validated/NonExploded_New_data_sample_event.json/*.json\")\n"
   ]
  },
  {
   "cell_type": "code",
   "execution_count": null,
   "metadata": {},
   "outputs": [],
   "source": [
    "%pyspark\n",
    "events = sqlContext.read.json(\"s3n://data-lake-us-east-2-549323063936-validated/NonExploded_New_data_event.json/*.json\")\n"
   ]
  },
  {
   "cell_type": "code",
   "execution_count": null,
   "metadata": {},
   "outputs": [],
   "source": [
    "%pyspark\n",
    "fieldEvents = sqlContext.read.json(\"s3n://data-lake-us-east-2-549323063936-validated/NonExploded_New_data_field_event.json\")"
   ]
  },
  {
   "cell_type": "code",
   "execution_count": null,
   "metadata": {},
   "outputs": [],
   "source": [
    "%pyspark\n",
    "sampleEvents.printSchema()\n",
    "events.printSchema()\n",
    "fieldEvents.printSchema()\n"
   ]
  },
  {
   "cell_type": "code",
   "execution_count": null,
   "metadata": {},
   "outputs": [],
   "source": [
    "%pyspark\n",
    "sampleEvents.select('sample_event.sample_event_type').show()"
   ]
  },
  {
   "cell_type": "code",
   "execution_count": null,
   "metadata": {},
   "outputs": [],
   "source": [
    "%pyspark\n",
    "sampleEventFieldIds = sampleEvents.select('sample_event.associations.`agrian.field`').distinct()"
   ]
  },
  {
   "cell_type": "code",
   "execution_count": null,
   "metadata": {},
   "outputs": [],
   "source": [
    "%pyspark\n",
    "eventFieldIds = events.select('event.associations.`agrian.field`').distinct()"
   ]
  },
  {
   "cell_type": "code",
   "execution_count": null,
   "metadata": {},
   "outputs": [],
   "source": [
    "%pyspark\n",
    "fieldEventFieldIds = fieldEvents.select('field_event.associations.`agrian.field`').distinct()"
   ]
  },
  {
   "cell_type": "code",
   "execution_count": null,
   "metadata": {},
   "outputs": [],
   "source": [
    "%pyspark\n",
    "fieldIds = fields.select('field.id').distinct()\n"
   ]
  },
  {
   "cell_type": "code",
   "execution_count": null,
   "metadata": {},
   "outputs": [],
   "source": [
    "%pyspark\n",
    "sampleEventFieldIds = sampleEventFieldIds.select(pys.explode('`agrian.field`')).toDF('fieldSEId')\n",
    "fieldEventFieldIds = fieldEventFieldIds.select(pys.explode('`agrian.field`')).toDF('fieldFEId')\n",
    "eventFieldIds = eventFieldIds.select(pys.explode('`agrian.field`')).toDF('fieldEId')"
   ]
  },
  {
   "cell_type": "code",
   "execution_count": null,
   "metadata": {},
   "outputs": [],
   "source": [
    "%pyspark\n",
    "fieldsWithAllData = sampleEventFieldIds.join(fieldEventFieldIds.join(eventFieldIds, eventFieldIds.fieldEId == fieldEventFieldIds.fieldFEId, \"inner\"), fieldEventFieldIds.fieldFEId == sampleEventFieldIds.fieldSEId, 'inner'  )\n",
    "# eventsAndFEvents = fieldEventFieldIds.join(eventFieldIds, eventFieldIds.fieldEId == fieldEventFieldIds.fieldFEId, \"inner\")\n",
    "fieldsWithAllData.count()"
   ]
  },
  {
   "cell_type": "code",
   "execution_count": null,
   "metadata": {},
   "outputs": [],
   "source": [
    "%pyspark\n",
    "fields.count()"
   ]
  },
  {
   "cell_type": "code",
   "execution_count": null,
   "metadata": {},
   "outputs": [],
   "source": [
    "%pyspark\n",
    "fieldsWithAllData.show()\n"
   ]
  },
  {
   "cell_type": "code",
   "execution_count": null,
   "metadata": {},
   "outputs": [],
   "source": [
    "%pyspark\n",
    "eventsTemp = events.sort(desc('event.associations.`agrian.field`') , desc('event.created_at')).groupby('event.associations.`agrian.field`').agg(F.collect_list(\"event.created_at\"), F.collect_list(\"event.json.event_type\"), F.collect_list(\"event\"))\n",
    "# eventsTemp.show()"
   ]
  },
  {
   "cell_type": "code",
   "execution_count": null,
   "metadata": {},
   "outputs": [],
   "source": [
    "%pyspark\n",
    "fieldEventsTemp = fieldEvents.sort(desc('field_event.associations.`agrian.field`'), desc(\"field_event.created_at\")).groupby('field_event.associations.`agrian.field`').agg(F.collect_list(\"field_event.created_at\"), F.collect_list(\"field_event.event_type\") , F.collect_list(\"field_event\"))\n",
    "# fieldEventsTemp.show()"
   ]
  },
  {
   "cell_type": "code",
   "execution_count": null,
   "metadata": {},
   "outputs": [],
   "source": [
    "%pyspark\n",
    "sampleEventsTemp = sampleEvents.sort(desc('sample_event.associations.`agrian.field`'), desc(\"sample_event.created_at\")).groupby('sample_event.associations.`agrian.field`').agg(F.collect_list(\"sample_event.created_at\"), F.collect_list(\"sample_event.sample_event_type\"), F.collect_list(\"sample_event\"))\n",
    "#sampleEventsTemp.show()"
   ]
  },
  {
   "cell_type": "code",
   "execution_count": null,
   "metadata": {},
   "outputs": [],
   "source": [
    "%pyspark\n",
    "fieldsMin = fields.select('field.id', 'field.associations.`agrian.grower`').toDF('id', 'grower_id')\n",
    "fieldsMin = fieldsMin.distinct()\n",
    "fieldsMin.printSchema()"
   ]
  },
  {
   "cell_type": "code",
   "execution_count": null,
   "metadata": {},
   "outputs": [],
   "source": [
    "%pyspark\n",
    "joined = fieldsMin.join(sampleEventsTemp, sampleEventsTemp['`agrian.field`'][0] == fieldsMin.id, 'inner' )"
   ]
  },
  {
   "cell_type": "code",
   "execution_count": null,
   "metadata": {},
   "outputs": [],
   "source": [
    "%pyspark\n",
    "joined = joined.join(fieldEventsTemp, fieldEventsTemp['`agrian.field`'][0] == joined.id, 'inner' )\n"
   ]
  },
  {
   "cell_type": "code",
   "execution_count": null,
   "metadata": {},
   "outputs": [],
   "source": [
    "%pyspark\n",
    "joined = joined.join(eventsTemp, eventsTemp['`agrian.field`'][0] == joined.id, 'inner' )\n"
   ]
  },
  {
   "cell_type": "code",
   "execution_count": null,
   "metadata": {},
   "outputs": [],
   "source": [
    "%pyspark\n",
    "joined = joined.drop('agrian.field')"
   ]
  },
  {
   "cell_type": "code",
   "execution_count": null,
   "metadata": {},
   "outputs": [],
   "source": [
    "%pyspark\n",
    "joined.printSchema()"
   ]
  },
  {
   "cell_type": "code",
   "execution_count": null,
   "metadata": {},
   "outputs": [],
   "source": [
    "%pyspark\n",
    "joined.write.format(\"json\").save(\"s3n://data-lake-us-east-2-549323063936-validated/timeStampedEventsForFields\")"
   ]
  },
  {
   "cell_type": "code",
   "execution_count": null,
   "metadata": {},
   "outputs": [],
   "source": [
    "%pyspark\n",
    "growers = sqlContext.read.json(\"s3n://data-lake-us-east-2-549323063936-validated/NonExploded_New_data_grower.json/*.json\")\n"
   ]
  },
  {
   "cell_type": "code",
   "execution_count": null,
   "metadata": {},
   "outputs": [],
   "source": [
    "%pyspark\n",
    "grower.printSchema()"
   ]
  },
  {
   "cell_type": "code",
   "execution_count": null,
   "metadata": {},
   "outputs": [],
   "source": [
    "%pyspark\n",
    "growerMin = grower.select('grower.id', 'grower.alternate_ids').toDF('grower_id', 'alternateIds')"
   ]
  },
  {
   "cell_type": "code",
   "execution_count": null,
   "metadata": {},
   "outputs": [],
   "source": [
    "%pyspark\n",
    "ars = growerMin.select('grower_id', F.explode(growerMin.alternateIds)).toDF('grower_id', 'alternateID')\n",
    "ars = ars.select('grower_id', 'alternateID.*')\n",
    "ars = ars.where('id_type == \"ars_id\"')\n"
   ]
  },
  {
   "cell_type": "code",
   "execution_count": null,
   "metadata": {},
   "outputs": [],
   "source": [
    "%pyspark\n",
    "ars = ars.toDF('growerArsId', 'alternate_id', 'alteranate_ars_id', 'id_type')"
   ]
  },
  {
   "cell_type": "code",
   "execution_count": null,
   "metadata": {},
   "outputs": [],
   "source": [
    "%pyspark\n",
    "ars.printSchema()\n",
    "joined.printSchema()"
   ]
  },
  {
   "cell_type": "code",
   "execution_count": null,
   "metadata": {},
   "outputs": [],
   "source": [
    "%pyspark\n",
    "joined.printSchema()"
   ]
  },
  {
   "cell_type": "code",
   "execution_count": null,
   "metadata": {},
   "outputs": [],
   "source": [
    "%pyspark\n",
    "joined = joined.join(ars, ars.growerArsId == joined.grower_id[0], 'left_outer')"
   ]
  },
  {
   "cell_type": "code",
   "execution_count": null,
   "metadata": {},
   "outputs": [],
   "source": [
    "%pyspark\n",
    "joined.printSchema()"
   ]
  },
  {
   "cell_type": "code",
   "execution_count": null,
   "metadata": {},
   "outputs": [],
   "source": [
    "joined.where(\"id == '0b0f4ba2-dd58-4078-8f77-a091f611851c'\").show()"
   ]
  },
  {
   "cell_type": "code",
   "execution_count": null,
   "metadata": {},
   "outputs": [],
   "source": [
    "%pyspark\n",
    "joined.write.format(\"json\").save(\"s3n://data-lake-us-east-2-549323063936-validated/timeStampedEventsForFields2\")"
   ]
  },
  {
   "cell_type": "code",
   "execution_count": null,
   "metadata": {},
   "outputs": [],
   "source": []
  },
  {
   "cell_type": "code",
   "execution_count": null,
   "metadata": {},
   "outputs": [],
   "source": []
  },
  {
   "cell_type": "code",
   "execution_count": null,
   "metadata": {},
   "outputs": [],
   "source": []
  },
  {
   "cell_type": "code",
   "execution_count": null,
   "metadata": {},
   "outputs": [],
   "source": []
  },
  {
   "cell_type": "code",
   "execution_count": null,
   "metadata": {},
   "outputs": [],
   "source": []
  }
 ],
 "metadata": {
  "kernelspec": {
   "display_name": "Python 2",
   "language": "python",
   "name": "python2"
  },
  "language_info": {
   "codemirror_mode": {
    "name": "ipython",
    "version": 2
   },
   "file_extension": ".py",
   "mimetype": "text/x-python",
   "name": "python",
   "nbconvert_exporter": "python",
   "pygments_lexer": "ipython2",
   "version": "2.7.15"
  }
 },
 "nbformat": 4,
 "nbformat_minor": 2
}
