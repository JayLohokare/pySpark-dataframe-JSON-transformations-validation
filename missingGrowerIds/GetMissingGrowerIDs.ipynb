{
 "cells": [
  {
   "cell_type": "code",
   "execution_count": 1,
   "metadata": {},
   "outputs": [],
   "source": [
    "grower = sqlContext.read.json(\"/Users/jay_lohokare/Desktop/data/growersNew/grower/*.json\")\n"
   ]
  },
  {
   "cell_type": "code",
   "execution_count": 2,
   "metadata": {},
   "outputs": [
    {
     "name": "stdout",
     "output_type": "stream",
     "text": [
      "root\n",
      " |-- grower: struct (nullable = true)\n",
      " |    |-- account_number: string (nullable = true)\n",
      " |    |-- active: boolean (nullable = true)\n",
      " |    |-- address: struct (nullable = true)\n",
      " |    |    |-- addressable: string (nullable = true)\n",
      " |    |    |-- city: string (nullable = true)\n",
      " |    |    |-- country_id: long (nullable = true)\n",
      " |    |    |-- created_at: string (nullable = true)\n",
      " |    |    |-- creator_id: string (nullable = true)\n",
      " |    |    |-- geo_location: string (nullable = true)\n",
      " |    |    |-- id: string (nullable = true)\n",
      " |    |    |-- line1: string (nullable = true)\n",
      " |    |    |-- line2: string (nullable = true)\n",
      " |    |    |-- postal_code: string (nullable = true)\n",
      " |    |    |-- region: string (nullable = true)\n",
      " |    |    |-- state_id: long (nullable = true)\n",
      " |    |    |-- updated_at: string (nullable = true)\n",
      " |    |    |-- updater_id: string (nullable = true)\n",
      " |    |-- alternate_ids: array (nullable = true)\n",
      " |    |    |-- element: struct (containsNull = true)\n",
      " |    |    |    |-- alternate_id: string (nullable = true)\n",
      " |    |    |    |-- id: string (nullable = true)\n",
      " |    |    |    |-- id_type: string (nullable = true)\n",
      " |    |-- associations: struct (nullable = true)\n",
      " |    |    |-- agrian.attachment: array (nullable = true)\n",
      " |    |    |    |-- element: string (containsNull = true)\n",
      " |    |    |-- agrian.farm: array (nullable = true)\n",
      " |    |    |    |-- element: string (containsNull = true)\n",
      " |    |    |-- agrian.grower: array (nullable = true)\n",
      " |    |    |    |-- element: string (containsNull = true)\n",
      " |    |    |-- agrian.organization: array (nullable = true)\n",
      " |    |    |    |-- element: string (containsNull = true)\n",
      " |    |-- boundary_map: struct (nullable = true)\n",
      " |    |    |-- area: double (nullable = true)\n",
      " |    |    |-- area_common: double (nullable = true)\n",
      " |    |    |-- area_unit: string (nullable = true)\n",
      " |    |    |-- boundary: string (nullable = true)\n",
      " |    |    |-- boundary_mappable: struct (nullable = true)\n",
      " |    |    |    |-- id: string (nullable = true)\n",
      " |    |    |    |-- type: string (nullable = true)\n",
      " |    |    |-- centroid: string (nullable = true)\n",
      " |    |    |-- id: string (nullable = true)\n",
      " |    |    |-- links: struct (nullable = true)\n",
      " |    |    |    |-- versions: string (nullable = true)\n",
      " |    |-- breadcrumbs: array (nullable = true)\n",
      " |    |    |-- element: array (containsNull = true)\n",
      " |    |    |    |-- element: string (containsNull = true)\n",
      " |    |-- code: string (nullable = true)\n",
      " |    |-- created_at: string (nullable = true)\n",
      " |    |-- creator_id: string (nullable = true)\n",
      " |    |-- custom_location: string (nullable = true)\n",
      " |    |-- default_contact: struct (nullable = true)\n",
      " |    |    |-- contactable: struct (nullable = true)\n",
      " |    |    |    |-- id: string (nullable = true)\n",
      " |    |    |    |-- type: string (nullable = true)\n",
      " |    |    |-- created_at: string (nullable = true)\n",
      " |    |    |-- creator_id: string (nullable = true)\n",
      " |    |    |-- deleted_at: string (nullable = true)\n",
      " |    |    |-- email: string (nullable = true)\n",
      " |    |    |-- first_name: string (nullable = true)\n",
      " |    |    |-- id: string (nullable = true)\n",
      " |    |    |-- last_name: string (nullable = true)\n",
      " |    |    |-- phones: array (nullable = true)\n",
      " |    |    |    |-- element: struct (containsNull = true)\n",
      " |    |    |    |    |-- country_id: long (nullable = true)\n",
      " |    |    |    |    |-- created_at: string (nullable = true)\n",
      " |    |    |    |    |-- extension: string (nullable = true)\n",
      " |    |    |    |    |-- id: string (nullable = true)\n",
      " |    |    |    |    |-- mobile_carrier_id: string (nullable = true)\n",
      " |    |    |    |    |-- phone_number: string (nullable = true)\n",
      " |    |    |    |    |-- phone_type_id: long (nullable = true)\n",
      " |    |    |    |    |-- phoneable_id: string (nullable = true)\n",
      " |    |    |    |    |-- phoneable_type: string (nullable = true)\n",
      " |    |    |    |    |-- updated_at: string (nullable = true)\n",
      " |    |    |-- updated_at: string (nullable = true)\n",
      " |    |    |-- updater_id: string (nullable = true)\n",
      " |    |-- deleted_at: string (nullable = true)\n",
      " |    |-- id: string (nullable = true)\n",
      " |    |-- inactivated_at: string (nullable = true)\n",
      " |    |-- links: struct (nullable = true)\n",
      " |    |    |-- activities: string (nullable = true)\n",
      " |    |    |-- attachments: string (nullable = true)\n",
      " |    |    |-- contacts: string (nullable = true)\n",
      " |    |    |-- crop_plan_scenarios: string (nullable = true)\n",
      " |    |    |-- farms: string (nullable = true)\n",
      " |    |    |-- integrations: string (nullable = true)\n",
      " |    |    |-- notes: string (nullable = true)\n",
      " |    |    |-- profile_groups: string (nullable = true)\n",
      " |    |    |-- siblings: string (nullable = true)\n",
      " |    |    |-- simple_farms: string (nullable = true)\n",
      " |    |    |-- summary: string (nullable = true)\n",
      " |    |    |-- tags: string (nullable = true)\n",
      " |    |    |-- versions: string (nullable = true)\n",
      " |    |-- name: string (nullable = true)\n",
      " |    |-- organization_id: string (nullable = true)\n",
      " |    |-- send_fieldview_fields_url: string (nullable = true)\n",
      " |    |-- simple: boolean (nullable = true)\n",
      " |    |-- updated_at: string (nullable = true)\n",
      " |    |-- updater_id: string (nullable = true)\n",
      "\n"
     ]
    }
   ],
   "source": [
    "grower.printSchema()"
   ]
  },
  {
   "cell_type": "code",
   "execution_count": 3,
   "metadata": {},
   "outputs": [],
   "source": [
    "grower = grower.select('grower.*')"
   ]
  },
  {
   "cell_type": "code",
   "execution_count": 4,
   "metadata": {},
   "outputs": [
    {
     "name": "stdout",
     "output_type": "stream",
     "text": [
      "root\n",
      " |-- account_number: string (nullable = true)\n",
      " |-- active: boolean (nullable = true)\n",
      " |-- address: struct (nullable = true)\n",
      " |    |-- addressable: string (nullable = true)\n",
      " |    |-- city: string (nullable = true)\n",
      " |    |-- country_id: long (nullable = true)\n",
      " |    |-- created_at: string (nullable = true)\n",
      " |    |-- creator_id: string (nullable = true)\n",
      " |    |-- geo_location: string (nullable = true)\n",
      " |    |-- id: string (nullable = true)\n",
      " |    |-- line1: string (nullable = true)\n",
      " |    |-- line2: string (nullable = true)\n",
      " |    |-- postal_code: string (nullable = true)\n",
      " |    |-- region: string (nullable = true)\n",
      " |    |-- state_id: long (nullable = true)\n",
      " |    |-- updated_at: string (nullable = true)\n",
      " |    |-- updater_id: string (nullable = true)\n",
      " |-- alternate_ids: array (nullable = true)\n",
      " |    |-- element: struct (containsNull = true)\n",
      " |    |    |-- alternate_id: string (nullable = true)\n",
      " |    |    |-- id: string (nullable = true)\n",
      " |    |    |-- id_type: string (nullable = true)\n",
      " |-- associations: struct (nullable = true)\n",
      " |    |-- agrian.attachment: array (nullable = true)\n",
      " |    |    |-- element: string (containsNull = true)\n",
      " |    |-- agrian.farm: array (nullable = true)\n",
      " |    |    |-- element: string (containsNull = true)\n",
      " |    |-- agrian.grower: array (nullable = true)\n",
      " |    |    |-- element: string (containsNull = true)\n",
      " |    |-- agrian.organization: array (nullable = true)\n",
      " |    |    |-- element: string (containsNull = true)\n",
      " |-- boundary_map: struct (nullable = true)\n",
      " |    |-- area: double (nullable = true)\n",
      " |    |-- area_common: double (nullable = true)\n",
      " |    |-- area_unit: string (nullable = true)\n",
      " |    |-- boundary: string (nullable = true)\n",
      " |    |-- boundary_mappable: struct (nullable = true)\n",
      " |    |    |-- id: string (nullable = true)\n",
      " |    |    |-- type: string (nullable = true)\n",
      " |    |-- centroid: string (nullable = true)\n",
      " |    |-- id: string (nullable = true)\n",
      " |    |-- links: struct (nullable = true)\n",
      " |    |    |-- versions: string (nullable = true)\n",
      " |-- breadcrumbs: array (nullable = true)\n",
      " |    |-- element: array (containsNull = true)\n",
      " |    |    |-- element: string (containsNull = true)\n",
      " |-- code: string (nullable = true)\n",
      " |-- created_at: string (nullable = true)\n",
      " |-- creator_id: string (nullable = true)\n",
      " |-- custom_location: string (nullable = true)\n",
      " |-- default_contact: struct (nullable = true)\n",
      " |    |-- contactable: struct (nullable = true)\n",
      " |    |    |-- id: string (nullable = true)\n",
      " |    |    |-- type: string (nullable = true)\n",
      " |    |-- created_at: string (nullable = true)\n",
      " |    |-- creator_id: string (nullable = true)\n",
      " |    |-- deleted_at: string (nullable = true)\n",
      " |    |-- email: string (nullable = true)\n",
      " |    |-- first_name: string (nullable = true)\n",
      " |    |-- id: string (nullable = true)\n",
      " |    |-- last_name: string (nullable = true)\n",
      " |    |-- phones: array (nullable = true)\n",
      " |    |    |-- element: struct (containsNull = true)\n",
      " |    |    |    |-- country_id: long (nullable = true)\n",
      " |    |    |    |-- created_at: string (nullable = true)\n",
      " |    |    |    |-- extension: string (nullable = true)\n",
      " |    |    |    |-- id: string (nullable = true)\n",
      " |    |    |    |-- mobile_carrier_id: string (nullable = true)\n",
      " |    |    |    |-- phone_number: string (nullable = true)\n",
      " |    |    |    |-- phone_type_id: long (nullable = true)\n",
      " |    |    |    |-- phoneable_id: string (nullable = true)\n",
      " |    |    |    |-- phoneable_type: string (nullable = true)\n",
      " |    |    |    |-- updated_at: string (nullable = true)\n",
      " |    |-- updated_at: string (nullable = true)\n",
      " |    |-- updater_id: string (nullable = true)\n",
      " |-- deleted_at: string (nullable = true)\n",
      " |-- id: string (nullable = true)\n",
      " |-- inactivated_at: string (nullable = true)\n",
      " |-- links: struct (nullable = true)\n",
      " |    |-- activities: string (nullable = true)\n",
      " |    |-- attachments: string (nullable = true)\n",
      " |    |-- contacts: string (nullable = true)\n",
      " |    |-- crop_plan_scenarios: string (nullable = true)\n",
      " |    |-- farms: string (nullable = true)\n",
      " |    |-- integrations: string (nullable = true)\n",
      " |    |-- notes: string (nullable = true)\n",
      " |    |-- profile_groups: string (nullable = true)\n",
      " |    |-- siblings: string (nullable = true)\n",
      " |    |-- simple_farms: string (nullable = true)\n",
      " |    |-- summary: string (nullable = true)\n",
      " |    |-- tags: string (nullable = true)\n",
      " |    |-- versions: string (nullable = true)\n",
      " |-- name: string (nullable = true)\n",
      " |-- organization_id: string (nullable = true)\n",
      " |-- send_fieldview_fields_url: string (nullable = true)\n",
      " |-- simple: boolean (nullable = true)\n",
      " |-- updated_at: string (nullable = true)\n",
      " |-- updater_id: string (nullable = true)\n",
      "\n"
     ]
    }
   ],
   "source": [
    "grower.printSchema()"
   ]
  },
  {
   "cell_type": "code",
   "execution_count": 5,
   "metadata": {},
   "outputs": [
    {
     "name": "stdout",
     "output_type": "stream",
     "text": [
      "83082\n"
     ]
    }
   ],
   "source": [
    "totalGrowers = grower.count()\n",
    "print totalGrowers"
   ]
  },
  {
   "cell_type": "code",
   "execution_count": 25,
   "metadata": {},
   "outputs": [],
   "source": [
    "from pyspark.sql.functions import col\n",
    "notDeleted = grower.where(col(\"deleted_at\").isNull())\n",
    "deleted = grower.where(col(\"deleted_at\").isNotNull())"
   ]
  },
  {
   "cell_type": "code",
   "execution_count": 19,
   "metadata": {},
   "outputs": [
    {
     "name": "stdout",
     "output_type": "stream",
     "text": [
      "11411\n"
     ]
    }
   ],
   "source": [
    "deletedCount = deleted.count()\n",
    "print deletedCount"
   ]
  },
  {
   "cell_type": "code",
   "execution_count": 20,
   "metadata": {},
   "outputs": [
    {
     "name": "stdout",
     "output_type": "stream",
     "text": [
      "70810\n"
     ]
    }
   ],
   "source": [
    "notDeletedCount = notDeleted.count()\n",
    "print notDeletedCount"
   ]
  },
  {
   "cell_type": "code",
   "execution_count": 30,
   "metadata": {},
   "outputs": [],
   "source": [
    "inActivatedAndNotDeleted = notDeleted.where(col(\"inactivated_at\").isNotNull())\n",
    "inActivatedAndDeleted = deleted.where(col(\"inactivated_at\").isNotNull())"
   ]
  },
  {
   "cell_type": "code",
   "execution_count": 31,
   "metadata": {},
   "outputs": [
    {
     "name": "stdout",
     "output_type": "stream",
     "text": [
      "4\n",
      "19\n"
     ]
    }
   ],
   "source": [
    "inActivatedAndDeletedCount = inActivatedAndDeleted.count()\n",
    "print inActivatedAndDeletedCount\n",
    "\n",
    "inActivatedAndNotDeletedCount = inActivatedAndNotDeleted.count()\n",
    "print inActivatedAndNotDeletedCount"
   ]
  },
  {
   "cell_type": "code",
   "execution_count": 6,
   "metadata": {},
   "outputs": [],
   "source": [
    "cps_grower = spark.read.csv(\"/Users/jay_lohokare/Desktop/data/newData/cps_growers.csv\", header=True, mode=\"DROPMALFORMED\")"
   ]
  },
  {
   "cell_type": "code",
   "execution_count": 7,
   "metadata": {},
   "outputs": [
    {
     "name": "stdout",
     "output_type": "stream",
     "text": [
      "89191\n"
     ]
    }
   ],
   "source": [
    "cps_growerCount = cps_grower.count()\n",
    "print cps_growerCount"
   ]
  },
  {
   "cell_type": "code",
   "execution_count": 9,
   "metadata": {},
   "outputs": [
    {
     "name": "stdout",
     "output_type": "stream",
     "text": [
      "+--------------------+\n",
      "|                  id|\n",
      "+--------------------+\n",
      "|286af2b6-f379-11e...|\n",
      "|5d4617d8-177c-488...|\n",
      "|0fecde2c-842b-4da...|\n",
      "|cd0f053b-848c-11e...|\n",
      "|5e02d475-d1d3-11e...|\n",
      "|0a5594c7-2a9a-457...|\n",
      "|f24e6530-25d1-46c...|\n",
      "|5e852540-c2ed-45f...|\n",
      "|2ddc9040-845b-4ed...|\n",
      "|297d2ae9-f379-11e...|\n",
      "|280d7aca-f379-11e...|\n",
      "|b9bf5d40-6d79-46d...|\n",
      "|935f1f52-0087-4bd...|\n",
      "|6f79e312-75e6-414...|\n",
      "|8896fab7-c0ce-447...|\n",
      "|effc32da-b276-4ab...|\n",
      "|2b5322fa-279b-400...|\n",
      "|2447fd31-808e-11e...|\n",
      "|823cd2ab-8ae2-416...|\n",
      "|660b0327-dfb9-43d...|\n",
      "+--------------------+\n",
      "only showing top 20 rows\n",
      "\n"
     ]
    }
   ],
   "source": [
    "cps_grower.show()"
   ]
  },
  {
   "cell_type": "code",
   "execution_count": 8,
   "metadata": {},
   "outputs": [
    {
     "name": "stdout",
     "output_type": "stream",
     "text": [
      "6109\n"
     ]
    }
   ],
   "source": [
    "difference = cps_growerCount - totalGrowers\n",
    "print difference"
   ]
  },
  {
   "cell_type": "code",
   "execution_count": 15,
   "metadata": {},
   "outputs": [],
   "source": [
    "missingIDs = cps_grower.join(grower, grower.id==cps_grower.id, )\n"
   ]
  },
  {
   "cell_type": "code",
   "execution_count": 17,
   "metadata": {},
   "outputs": [],
   "source": [
    "missingIDs = cps_grower.join(grower, 'id', 'left_anti')"
   ]
  },
  {
   "cell_type": "code",
   "execution_count": 18,
   "metadata": {},
   "outputs": [
    {
     "data": {
      "text/plain": [
       "18318"
      ]
     },
     "execution_count": 18,
     "metadata": {},
     "output_type": "execute_result"
    }
   ],
   "source": [
    "missingIDs.count()"
   ]
  },
  {
   "cell_type": "code",
   "execution_count": 20,
   "metadata": {},
   "outputs": [],
   "source": [
    "missingIDs.write.csv(\"/Users/jay_lohokare/Desktop/missingIds.csv\")"
   ]
  },
  {
   "cell_type": "code",
   "execution_count": null,
   "metadata": {},
   "outputs": [],
   "source": []
  }
 ],
 "metadata": {
  "kernelspec": {
   "display_name": "Python 2",
   "language": "python",
   "name": "python2"
  },
  "language_info": {
   "codemirror_mode": {
    "name": "ipython",
    "version": 2
   },
   "file_extension": ".py",
   "mimetype": "text/x-python",
   "name": "python",
   "nbconvert_exporter": "python",
   "pygments_lexer": "ipython2",
   "version": "2.7.15"
  }
 },
 "nbformat": 4,
 "nbformat_minor": 2
}
